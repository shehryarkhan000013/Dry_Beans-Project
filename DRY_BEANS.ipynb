{
 "cells": [
  {
   "cell_type": "code",
   "execution_count": 1,
   "metadata": {},
   "outputs": [
    {
     "name": "stdout",
     "output_type": "stream",
     "text": [
      "{'uci_id': 602, 'name': 'Dry Bean', 'repository_url': 'https://archive.ics.uci.edu/dataset/602/dry+bean+dataset', 'data_url': 'https://archive.ics.uci.edu/static/public/602/data.csv', 'abstract': 'Images of 13,611 grains of 7 different registered dry beans were taken with a high-resolution camera. A total of 16 features; 12 dimensions and 4 shape forms, were obtained from the grains.', 'area': 'Biology', 'tasks': ['Classification'], 'characteristics': ['Multivariate'], 'num_instances': 13611, 'num_features': 16, 'feature_types': ['Integer', 'Real'], 'demographics': [], 'target_col': ['Class'], 'index_col': None, 'has_missing_values': 'no', 'missing_values_symbol': None, 'year_of_dataset_creation': 2020, 'last_updated': 'Thu Mar 28 2024', 'dataset_doi': '10.24432/C50S4B', 'creators': [], 'intro_paper': {'title': 'Multiclass classification of dry beans using computer vision and machine learning techniques', 'authors': 'M. Koklu, Ilker Ali Özkan', 'published_in': 'Computers and Electronics in Agriculture', 'year': 2020, 'url': 'https://www.semanticscholar.org/paper/e84c31138f2f261d15517d6b6bb8922c3fe597a1', 'doi': '10.1016/j.compag.2020.105507'}, 'additional_info': {'summary': 'Seven different types of dry beans were used in this research, taking into account the features such as form, shape, type, and structure by the market situation. A computer vision system was developed to distinguish seven different registered varieties of dry beans with similar features in order to obtain uniform seed classification. For the classification model, images of 13,611 grains of 7 different registered dry beans were taken with a high-resolution camera. Bean images obtained by computer vision system were subjected to segmentation and feature extraction stages, and a total of 16 features; 12 dimensions and 4 shape forms, were obtained from the grains.', 'purpose': None, 'funded_by': None, 'instances_represent': None, 'recommended_data_splits': None, 'sensitive_data': None, 'preprocessing_description': None, 'variable_info': '1.) Area (A): The area of a bean zone and the number of pixels within its boundaries.\\r\\n2.) Perimeter (P): Bean circumference is defined as the length of its border.\\r\\n3.) Major axis length (L): The distance between the ends of the longest line that can be drawn from a bean.\\r\\n4.) Minor axis length (l): The longest line that can be drawn from the bean while standing perpendicular to the main axis.\\r\\n5.) Aspect ratio (K): Defines the relationship between L and l.\\r\\n6.) Eccentricity (Ec): Eccentricity of the ellipse having the same moments as the region.\\r\\n7.) Convex area (C): Number of pixels in the smallest convex polygon that can contain the area of a bean seed.\\r\\n8.) Equivalent diameter (Ed): The diameter of a circle having the same area as a bean seed area.\\r\\n9.) Extent (Ex): The ratio of the pixels in the bounding box to the bean area.\\r\\n10.)Solidity (S): Also known as convexity. The ratio of the pixels in the convex shell to those found in beans.\\r\\n11.)Roundness (R): Calculated with the following formula: (4piA)/(P^2)\\r\\n12.)Compactness (CO): Measures the roundness of an object: Ed/L\\r\\n13.)ShapeFactor1 (SF1)\\r\\n14.)ShapeFactor2 (SF2)\\r\\n15.)ShapeFactor3 (SF3)\\r\\n16.)ShapeFactor4 (SF4)\\r\\n17.)Class (Seker, Barbunya, Bombay, Cali, Dermosan, Horoz and Sira)\\r\\n', 'citation': None}}\n",
      "               name     role         type demographic  \\\n",
      "0              Area  Feature      Integer        None   \n",
      "1         Perimeter  Feature   Continuous        None   \n",
      "2   MajorAxisLength  Feature   Continuous        None   \n",
      "3   MinorAxisLength  Feature   Continuous        None   \n",
      "4       AspectRatio  Feature   Continuous        None   \n",
      "5      Eccentricity  Feature   Continuous        None   \n",
      "6        ConvexArea  Feature      Integer        None   \n",
      "7     EquivDiameter  Feature   Continuous        None   \n",
      "8            Extent  Feature   Continuous        None   \n",
      "9          Solidity  Feature   Continuous        None   \n",
      "10        Roundness  Feature   Continuous        None   \n",
      "11      Compactness  Feature   Continuous        None   \n",
      "12     ShapeFactor1  Feature   Continuous        None   \n",
      "13     ShapeFactor2  Feature   Continuous        None   \n",
      "14     ShapeFactor3  Feature   Continuous        None   \n",
      "15     ShapeFactor4  Feature   Continuous        None   \n",
      "16            Class   Target  Categorical        None   \n",
      "\n",
      "                                          description   units missing_values  \n",
      "0   The area of a bean zone and the number of pixe...  pixels             no  \n",
      "1   Bean circumference is defined as the length of...    None             no  \n",
      "2   The distance between the ends of the longest l...    None             no  \n",
      "3   The longest line that can be drawn from the be...    None             no  \n",
      "4   Defines the relationship between MajorAxisLeng...    None             no  \n",
      "5   Eccentricity of the ellipse having the same mo...    None             no  \n",
      "6   Number of pixels in the smallest convex polygo...    None             no  \n",
      "7   Equivalent diameter: The diameter of a circle ...    None             no  \n",
      "8   The ratio of the pixels in the bounding box to...    None             no  \n",
      "9   Also known as convexity. The ratio of the pixe...    None             no  \n",
      "10  Calculated with the following formula: (4piA)/...    None             no  \n",
      "11                Measures the roundness of an object    Ed/L             no  \n",
      "12                                               None    None             no  \n",
      "13                                               None    None             no  \n",
      "14                                               None    None             no  \n",
      "15                                               None    None             no  \n",
      "16  (Seker, Barbunya, Bombay, Cali, Dermosan, Horo...    None             no  \n"
     ]
    }
   ],
   "source": [
    "from ucimlrepo import fetch_ucirepo \n",
    "  \n",
    "# fetch dataset \n",
    "dry_bean = fetch_ucirepo(id=602) \n",
    "  \n",
    "# data (as pandas dataframes) \n",
    "X = dry_bean.data.features \n",
    "y = dry_bean.data.targets \n",
    "  \n",
    "# metadata \n",
    "print(dry_bean.metadata) \n",
    "  \n",
    "# variable information \n",
    "print(dry_bean.variables) \n"
   ]
  },
  {
   "cell_type": "code",
   "execution_count": 2,
   "metadata": {},
   "outputs": [
    {
     "data": {
      "text/html": [
       "<div>\n",
       "<style scoped>\n",
       "    .dataframe tbody tr th:only-of-type {\n",
       "        vertical-align: middle;\n",
       "    }\n",
       "\n",
       "    .dataframe tbody tr th {\n",
       "        vertical-align: top;\n",
       "    }\n",
       "\n",
       "    .dataframe thead th {\n",
       "        text-align: right;\n",
       "    }\n",
       "</style>\n",
       "<table border=\"1\" class=\"dataframe\">\n",
       "  <thead>\n",
       "    <tr style=\"text-align: right;\">\n",
       "      <th></th>\n",
       "      <th>Area</th>\n",
       "      <th>Perimeter</th>\n",
       "      <th>MajorAxisLength</th>\n",
       "      <th>MinorAxisLength</th>\n",
       "      <th>AspectRatio</th>\n",
       "      <th>Eccentricity</th>\n",
       "      <th>ConvexArea</th>\n",
       "      <th>EquivDiameter</th>\n",
       "      <th>Extent</th>\n",
       "      <th>Solidity</th>\n",
       "      <th>Roundness</th>\n",
       "      <th>Compactness</th>\n",
       "      <th>ShapeFactor1</th>\n",
       "      <th>ShapeFactor2</th>\n",
       "      <th>ShapeFactor3</th>\n",
       "      <th>ShapeFactor4</th>\n",
       "    </tr>\n",
       "  </thead>\n",
       "  <tbody>\n",
       "    <tr>\n",
       "      <th>0</th>\n",
       "      <td>28395</td>\n",
       "      <td>610.291</td>\n",
       "      <td>208.178117</td>\n",
       "      <td>173.888747</td>\n",
       "      <td>1.197191</td>\n",
       "      <td>0.549812</td>\n",
       "      <td>28715</td>\n",
       "      <td>190.141097</td>\n",
       "      <td>0.763923</td>\n",
       "      <td>0.988856</td>\n",
       "      <td>0.958027</td>\n",
       "      <td>0.913358</td>\n",
       "      <td>0.007332</td>\n",
       "      <td>0.003147</td>\n",
       "      <td>0.834222</td>\n",
       "      <td>0.998724</td>\n",
       "    </tr>\n",
       "    <tr>\n",
       "      <th>1</th>\n",
       "      <td>28734</td>\n",
       "      <td>638.018</td>\n",
       "      <td>200.524796</td>\n",
       "      <td>182.734419</td>\n",
       "      <td>1.097356</td>\n",
       "      <td>0.411785</td>\n",
       "      <td>29172</td>\n",
       "      <td>191.272751</td>\n",
       "      <td>0.783968</td>\n",
       "      <td>0.984986</td>\n",
       "      <td>0.887034</td>\n",
       "      <td>0.953861</td>\n",
       "      <td>0.006979</td>\n",
       "      <td>0.003564</td>\n",
       "      <td>0.909851</td>\n",
       "      <td>0.998430</td>\n",
       "    </tr>\n",
       "    <tr>\n",
       "      <th>2</th>\n",
       "      <td>29380</td>\n",
       "      <td>624.110</td>\n",
       "      <td>212.826130</td>\n",
       "      <td>175.931143</td>\n",
       "      <td>1.209713</td>\n",
       "      <td>0.562727</td>\n",
       "      <td>29690</td>\n",
       "      <td>193.410904</td>\n",
       "      <td>0.778113</td>\n",
       "      <td>0.989559</td>\n",
       "      <td>0.947849</td>\n",
       "      <td>0.908774</td>\n",
       "      <td>0.007244</td>\n",
       "      <td>0.003048</td>\n",
       "      <td>0.825871</td>\n",
       "      <td>0.999066</td>\n",
       "    </tr>\n",
       "    <tr>\n",
       "      <th>3</th>\n",
       "      <td>30008</td>\n",
       "      <td>645.884</td>\n",
       "      <td>210.557999</td>\n",
       "      <td>182.516516</td>\n",
       "      <td>1.153638</td>\n",
       "      <td>0.498616</td>\n",
       "      <td>30724</td>\n",
       "      <td>195.467062</td>\n",
       "      <td>0.782681</td>\n",
       "      <td>0.976696</td>\n",
       "      <td>0.903936</td>\n",
       "      <td>0.928329</td>\n",
       "      <td>0.007017</td>\n",
       "      <td>0.003215</td>\n",
       "      <td>0.861794</td>\n",
       "      <td>0.994199</td>\n",
       "    </tr>\n",
       "    <tr>\n",
       "      <th>4</th>\n",
       "      <td>30140</td>\n",
       "      <td>620.134</td>\n",
       "      <td>201.847882</td>\n",
       "      <td>190.279279</td>\n",
       "      <td>1.060798</td>\n",
       "      <td>0.333680</td>\n",
       "      <td>30417</td>\n",
       "      <td>195.896503</td>\n",
       "      <td>0.773098</td>\n",
       "      <td>0.990893</td>\n",
       "      <td>0.984877</td>\n",
       "      <td>0.970516</td>\n",
       "      <td>0.006697</td>\n",
       "      <td>0.003665</td>\n",
       "      <td>0.941900</td>\n",
       "      <td>0.999166</td>\n",
       "    </tr>\n",
       "    <tr>\n",
       "      <th>...</th>\n",
       "      <td>...</td>\n",
       "      <td>...</td>\n",
       "      <td>...</td>\n",
       "      <td>...</td>\n",
       "      <td>...</td>\n",
       "      <td>...</td>\n",
       "      <td>...</td>\n",
       "      <td>...</td>\n",
       "      <td>...</td>\n",
       "      <td>...</td>\n",
       "      <td>...</td>\n",
       "      <td>...</td>\n",
       "      <td>...</td>\n",
       "      <td>...</td>\n",
       "      <td>...</td>\n",
       "      <td>...</td>\n",
       "    </tr>\n",
       "    <tr>\n",
       "      <th>13606</th>\n",
       "      <td>42097</td>\n",
       "      <td>759.696</td>\n",
       "      <td>288.721612</td>\n",
       "      <td>185.944705</td>\n",
       "      <td>1.552728</td>\n",
       "      <td>0.765002</td>\n",
       "      <td>42508</td>\n",
       "      <td>231.515799</td>\n",
       "      <td>0.714574</td>\n",
       "      <td>0.990331</td>\n",
       "      <td>0.916603</td>\n",
       "      <td>0.801865</td>\n",
       "      <td>0.006858</td>\n",
       "      <td>0.001749</td>\n",
       "      <td>0.642988</td>\n",
       "      <td>0.998385</td>\n",
       "    </tr>\n",
       "    <tr>\n",
       "      <th>13607</th>\n",
       "      <td>42101</td>\n",
       "      <td>757.499</td>\n",
       "      <td>281.576392</td>\n",
       "      <td>190.713136</td>\n",
       "      <td>1.476439</td>\n",
       "      <td>0.735702</td>\n",
       "      <td>42494</td>\n",
       "      <td>231.526798</td>\n",
       "      <td>0.799943</td>\n",
       "      <td>0.990752</td>\n",
       "      <td>0.922015</td>\n",
       "      <td>0.822252</td>\n",
       "      <td>0.006688</td>\n",
       "      <td>0.001886</td>\n",
       "      <td>0.676099</td>\n",
       "      <td>0.998219</td>\n",
       "    </tr>\n",
       "    <tr>\n",
       "      <th>13608</th>\n",
       "      <td>42139</td>\n",
       "      <td>759.321</td>\n",
       "      <td>281.539928</td>\n",
       "      <td>191.187979</td>\n",
       "      <td>1.472582</td>\n",
       "      <td>0.734065</td>\n",
       "      <td>42569</td>\n",
       "      <td>231.631261</td>\n",
       "      <td>0.729932</td>\n",
       "      <td>0.989899</td>\n",
       "      <td>0.918424</td>\n",
       "      <td>0.822730</td>\n",
       "      <td>0.006681</td>\n",
       "      <td>0.001888</td>\n",
       "      <td>0.676884</td>\n",
       "      <td>0.996767</td>\n",
       "    </tr>\n",
       "    <tr>\n",
       "      <th>13609</th>\n",
       "      <td>42147</td>\n",
       "      <td>763.779</td>\n",
       "      <td>283.382636</td>\n",
       "      <td>190.275731</td>\n",
       "      <td>1.489326</td>\n",
       "      <td>0.741055</td>\n",
       "      <td>42667</td>\n",
       "      <td>231.653247</td>\n",
       "      <td>0.705389</td>\n",
       "      <td>0.987813</td>\n",
       "      <td>0.907906</td>\n",
       "      <td>0.817457</td>\n",
       "      <td>0.006724</td>\n",
       "      <td>0.001852</td>\n",
       "      <td>0.668237</td>\n",
       "      <td>0.995222</td>\n",
       "    </tr>\n",
       "    <tr>\n",
       "      <th>13610</th>\n",
       "      <td>42159</td>\n",
       "      <td>772.237</td>\n",
       "      <td>295.142741</td>\n",
       "      <td>182.204716</td>\n",
       "      <td>1.619841</td>\n",
       "      <td>0.786693</td>\n",
       "      <td>42600</td>\n",
       "      <td>231.686223</td>\n",
       "      <td>0.788962</td>\n",
       "      <td>0.989648</td>\n",
       "      <td>0.888380</td>\n",
       "      <td>0.784997</td>\n",
       "      <td>0.007001</td>\n",
       "      <td>0.001640</td>\n",
       "      <td>0.616221</td>\n",
       "      <td>0.998180</td>\n",
       "    </tr>\n",
       "  </tbody>\n",
       "</table>\n",
       "<p>13611 rows × 16 columns</p>\n",
       "</div>"
      ],
      "text/plain": [
       "        Area  Perimeter  MajorAxisLength  MinorAxisLength  AspectRatio  \\\n",
       "0      28395    610.291       208.178117       173.888747     1.197191   \n",
       "1      28734    638.018       200.524796       182.734419     1.097356   \n",
       "2      29380    624.110       212.826130       175.931143     1.209713   \n",
       "3      30008    645.884       210.557999       182.516516     1.153638   \n",
       "4      30140    620.134       201.847882       190.279279     1.060798   \n",
       "...      ...        ...              ...              ...          ...   \n",
       "13606  42097    759.696       288.721612       185.944705     1.552728   \n",
       "13607  42101    757.499       281.576392       190.713136     1.476439   \n",
       "13608  42139    759.321       281.539928       191.187979     1.472582   \n",
       "13609  42147    763.779       283.382636       190.275731     1.489326   \n",
       "13610  42159    772.237       295.142741       182.204716     1.619841   \n",
       "\n",
       "       Eccentricity  ConvexArea  EquivDiameter    Extent  Solidity  Roundness  \\\n",
       "0          0.549812       28715     190.141097  0.763923  0.988856   0.958027   \n",
       "1          0.411785       29172     191.272751  0.783968  0.984986   0.887034   \n",
       "2          0.562727       29690     193.410904  0.778113  0.989559   0.947849   \n",
       "3          0.498616       30724     195.467062  0.782681  0.976696   0.903936   \n",
       "4          0.333680       30417     195.896503  0.773098  0.990893   0.984877   \n",
       "...             ...         ...            ...       ...       ...        ...   \n",
       "13606      0.765002       42508     231.515799  0.714574  0.990331   0.916603   \n",
       "13607      0.735702       42494     231.526798  0.799943  0.990752   0.922015   \n",
       "13608      0.734065       42569     231.631261  0.729932  0.989899   0.918424   \n",
       "13609      0.741055       42667     231.653247  0.705389  0.987813   0.907906   \n",
       "13610      0.786693       42600     231.686223  0.788962  0.989648   0.888380   \n",
       "\n",
       "       Compactness  ShapeFactor1  ShapeFactor2  ShapeFactor3  ShapeFactor4  \n",
       "0         0.913358      0.007332      0.003147      0.834222      0.998724  \n",
       "1         0.953861      0.006979      0.003564      0.909851      0.998430  \n",
       "2         0.908774      0.007244      0.003048      0.825871      0.999066  \n",
       "3         0.928329      0.007017      0.003215      0.861794      0.994199  \n",
       "4         0.970516      0.006697      0.003665      0.941900      0.999166  \n",
       "...            ...           ...           ...           ...           ...  \n",
       "13606     0.801865      0.006858      0.001749      0.642988      0.998385  \n",
       "13607     0.822252      0.006688      0.001886      0.676099      0.998219  \n",
       "13608     0.822730      0.006681      0.001888      0.676884      0.996767  \n",
       "13609     0.817457      0.006724      0.001852      0.668237      0.995222  \n",
       "13610     0.784997      0.007001      0.001640      0.616221      0.998180  \n",
       "\n",
       "[13611 rows x 16 columns]"
      ]
     },
     "execution_count": 2,
     "metadata": {},
     "output_type": "execute_result"
    }
   ],
   "source": [
    "X"
   ]
  },
  {
   "cell_type": "code",
   "execution_count": 3,
   "metadata": {},
   "outputs": [
    {
     "data": {
      "text/html": [
       "<div>\n",
       "<style scoped>\n",
       "    .dataframe tbody tr th:only-of-type {\n",
       "        vertical-align: middle;\n",
       "    }\n",
       "\n",
       "    .dataframe tbody tr th {\n",
       "        vertical-align: top;\n",
       "    }\n",
       "\n",
       "    .dataframe thead th {\n",
       "        text-align: right;\n",
       "    }\n",
       "</style>\n",
       "<table border=\"1\" class=\"dataframe\">\n",
       "  <thead>\n",
       "    <tr style=\"text-align: right;\">\n",
       "      <th></th>\n",
       "      <th>Class</th>\n",
       "    </tr>\n",
       "  </thead>\n",
       "  <tbody>\n",
       "    <tr>\n",
       "      <th>0</th>\n",
       "      <td>SEKER</td>\n",
       "    </tr>\n",
       "    <tr>\n",
       "      <th>1</th>\n",
       "      <td>SEKER</td>\n",
       "    </tr>\n",
       "    <tr>\n",
       "      <th>2</th>\n",
       "      <td>SEKER</td>\n",
       "    </tr>\n",
       "    <tr>\n",
       "      <th>3</th>\n",
       "      <td>SEKER</td>\n",
       "    </tr>\n",
       "    <tr>\n",
       "      <th>4</th>\n",
       "      <td>SEKER</td>\n",
       "    </tr>\n",
       "    <tr>\n",
       "      <th>...</th>\n",
       "      <td>...</td>\n",
       "    </tr>\n",
       "    <tr>\n",
       "      <th>13606</th>\n",
       "      <td>DERMASON</td>\n",
       "    </tr>\n",
       "    <tr>\n",
       "      <th>13607</th>\n",
       "      <td>DERMASON</td>\n",
       "    </tr>\n",
       "    <tr>\n",
       "      <th>13608</th>\n",
       "      <td>DERMASON</td>\n",
       "    </tr>\n",
       "    <tr>\n",
       "      <th>13609</th>\n",
       "      <td>DERMASON</td>\n",
       "    </tr>\n",
       "    <tr>\n",
       "      <th>13610</th>\n",
       "      <td>DERMASON</td>\n",
       "    </tr>\n",
       "  </tbody>\n",
       "</table>\n",
       "<p>13611 rows × 1 columns</p>\n",
       "</div>"
      ],
      "text/plain": [
       "          Class\n",
       "0         SEKER\n",
       "1         SEKER\n",
       "2         SEKER\n",
       "3         SEKER\n",
       "4         SEKER\n",
       "...         ...\n",
       "13606  DERMASON\n",
       "13607  DERMASON\n",
       "13608  DERMASON\n",
       "13609  DERMASON\n",
       "13610  DERMASON\n",
       "\n",
       "[13611 rows x 1 columns]"
      ]
     },
     "execution_count": 3,
     "metadata": {},
     "output_type": "execute_result"
    }
   ],
   "source": [
    "y"
   ]
  },
  {
   "cell_type": "code",
   "execution_count": 4,
   "metadata": {},
   "outputs": [],
   "source": [
    "from sklearn.preprocessing import LabelEncoder"
   ]
  },
  {
   "cell_type": "code",
   "execution_count": 5,
   "metadata": {},
   "outputs": [
    {
     "name": "stderr",
     "output_type": "stream",
     "text": [
      "c:\\Users\\PMLS\\anaconda3\\Lib\\site-packages\\sklearn\\preprocessing\\_label.py:116: DataConversionWarning: A column-vector y was passed when a 1d array was expected. Please change the shape of y to (n_samples, ), for example using ravel().\n",
      "  y = column_or_1d(y, warn=True)\n"
     ]
    },
    {
     "data": {
      "text/plain": [
       "array([5, 5, 5, ..., 3, 3, 3])"
      ]
     },
     "execution_count": 5,
     "metadata": {},
     "output_type": "execute_result"
    }
   ],
   "source": [
    "l= LabelEncoder()\n",
    "y=l.fit_transform(y)\n",
    "y"
   ]
  },
  {
   "cell_type": "code",
   "execution_count": 6,
   "metadata": {},
   "outputs": [],
   "source": [
    "from sklearn.model_selection import train_test_split\n",
    "\n",
    "X_train, X_test, y_train, y_test = train_test_split(X, y, test_size=0.2, random_state=42)"
   ]
  },
  {
   "cell_type": "code",
   "execution_count": 7,
   "metadata": {},
   "outputs": [
    {
     "data": {
      "text/plain": [
       "(10888,)"
      ]
     },
     "execution_count": 7,
     "metadata": {},
     "output_type": "execute_result"
    }
   ],
   "source": [
    "y_train.shape"
   ]
  },
  {
   "cell_type": "code",
   "execution_count": 8,
   "metadata": {},
   "outputs": [
    {
     "data": {
      "text/html": [
       "<style>#sk-container-id-1 {color: black;background-color: white;}#sk-container-id-1 pre{padding: 0;}#sk-container-id-1 div.sk-toggleable {background-color: white;}#sk-container-id-1 label.sk-toggleable__label {cursor: pointer;display: block;width: 100%;margin-bottom: 0;padding: 0.3em;box-sizing: border-box;text-align: center;}#sk-container-id-1 label.sk-toggleable__label-arrow:before {content: \"▸\";float: left;margin-right: 0.25em;color: #696969;}#sk-container-id-1 label.sk-toggleable__label-arrow:hover:before {color: black;}#sk-container-id-1 div.sk-estimator:hover label.sk-toggleable__label-arrow:before {color: black;}#sk-container-id-1 div.sk-toggleable__content {max-height: 0;max-width: 0;overflow: hidden;text-align: left;background-color: #f0f8ff;}#sk-container-id-1 div.sk-toggleable__content pre {margin: 0.2em;color: black;border-radius: 0.25em;background-color: #f0f8ff;}#sk-container-id-1 input.sk-toggleable__control:checked~div.sk-toggleable__content {max-height: 200px;max-width: 100%;overflow: auto;}#sk-container-id-1 input.sk-toggleable__control:checked~label.sk-toggleable__label-arrow:before {content: \"▾\";}#sk-container-id-1 div.sk-estimator input.sk-toggleable__control:checked~label.sk-toggleable__label {background-color: #d4ebff;}#sk-container-id-1 div.sk-label input.sk-toggleable__control:checked~label.sk-toggleable__label {background-color: #d4ebff;}#sk-container-id-1 input.sk-hidden--visually {border: 0;clip: rect(1px 1px 1px 1px);clip: rect(1px, 1px, 1px, 1px);height: 1px;margin: -1px;overflow: hidden;padding: 0;position: absolute;width: 1px;}#sk-container-id-1 div.sk-estimator {font-family: monospace;background-color: #f0f8ff;border: 1px dotted black;border-radius: 0.25em;box-sizing: border-box;margin-bottom: 0.5em;}#sk-container-id-1 div.sk-estimator:hover {background-color: #d4ebff;}#sk-container-id-1 div.sk-parallel-item::after {content: \"\";width: 100%;border-bottom: 1px solid gray;flex-grow: 1;}#sk-container-id-1 div.sk-label:hover label.sk-toggleable__label {background-color: #d4ebff;}#sk-container-id-1 div.sk-serial::before {content: \"\";position: absolute;border-left: 1px solid gray;box-sizing: border-box;top: 0;bottom: 0;left: 50%;z-index: 0;}#sk-container-id-1 div.sk-serial {display: flex;flex-direction: column;align-items: center;background-color: white;padding-right: 0.2em;padding-left: 0.2em;position: relative;}#sk-container-id-1 div.sk-item {position: relative;z-index: 1;}#sk-container-id-1 div.sk-parallel {display: flex;align-items: stretch;justify-content: center;background-color: white;position: relative;}#sk-container-id-1 div.sk-item::before, #sk-container-id-1 div.sk-parallel-item::before {content: \"\";position: absolute;border-left: 1px solid gray;box-sizing: border-box;top: 0;bottom: 0;left: 50%;z-index: -1;}#sk-container-id-1 div.sk-parallel-item {display: flex;flex-direction: column;z-index: 1;position: relative;background-color: white;}#sk-container-id-1 div.sk-parallel-item:first-child::after {align-self: flex-end;width: 50%;}#sk-container-id-1 div.sk-parallel-item:last-child::after {align-self: flex-start;width: 50%;}#sk-container-id-1 div.sk-parallel-item:only-child::after {width: 0;}#sk-container-id-1 div.sk-dashed-wrapped {border: 1px dashed gray;margin: 0 0.4em 0.5em 0.4em;box-sizing: border-box;padding-bottom: 0.4em;background-color: white;}#sk-container-id-1 div.sk-label label {font-family: monospace;font-weight: bold;display: inline-block;line-height: 1.2em;}#sk-container-id-1 div.sk-label-container {text-align: center;}#sk-container-id-1 div.sk-container {/* jupyter's `normalize.less` sets `[hidden] { display: none; }` but bootstrap.min.css set `[hidden] { display: none !important; }` so we also need the `!important` here to be able to override the default hidden behavior on the sphinx rendered scikit-learn.org. See: https://github.com/scikit-learn/scikit-learn/issues/21755 */display: inline-block !important;position: relative;}#sk-container-id-1 div.sk-text-repr-fallback {display: none;}</style><div id=\"sk-container-id-1\" class=\"sk-top-container\"><div class=\"sk-text-repr-fallback\"><pre>DecisionTreeClassifier()</pre><b>In a Jupyter environment, please rerun this cell to show the HTML representation or trust the notebook. <br />On GitHub, the HTML representation is unable to render, please try loading this page with nbviewer.org.</b></div><div class=\"sk-container\" hidden><div class=\"sk-item\"><div class=\"sk-estimator sk-toggleable\"><input class=\"sk-toggleable__control sk-hidden--visually\" id=\"sk-estimator-id-1\" type=\"checkbox\" checked><label for=\"sk-estimator-id-1\" class=\"sk-toggleable__label sk-toggleable__label-arrow\">DecisionTreeClassifier</label><div class=\"sk-toggleable__content\"><pre>DecisionTreeClassifier()</pre></div></div></div></div></div>"
      ],
      "text/plain": [
       "DecisionTreeClassifier()"
      ]
     },
     "execution_count": 8,
     "metadata": {},
     "output_type": "execute_result"
    }
   ],
   "source": [
    "from sklearn import tree\n",
    "clf=tree.DecisionTreeClassifier()\n",
    "clf=clf.fit(X_train, y_train)\n",
    "clf"
   ]
  },
  {
   "cell_type": "code",
   "execution_count": 9,
   "metadata": {},
   "outputs": [
    {
     "data": {
      "text/plain": [
       "array([5, 0, 5, ..., 3, 2, 3])"
      ]
     },
     "execution_count": 9,
     "metadata": {},
     "output_type": "execute_result"
    }
   ],
   "source": [
    "pred=clf.predict(X_test)\n",
    "pred"
   ]
  },
  {
   "cell_type": "code",
   "execution_count": 10,
   "metadata": {},
   "outputs": [
    {
     "name": "stdout",
     "output_type": "stream",
     "text": [
      "The accuracy of Chambal model is:  0.8927653323540213\n"
     ]
    }
   ],
   "source": [
    "from sklearn.metrics import accuracy_score\n",
    "acc=accuracy_score(y_test, pred)\n",
    "print('The accuracy of Chambal model is: ', acc)"
   ]
  },
  {
   "cell_type": "code",
   "execution_count": 11,
   "metadata": {},
   "outputs": [
    {
     "data": {
      "text/plain": [
       "array([0, 1, 2, 3, 4, 5, 6])"
      ]
     },
     "execution_count": 11,
     "metadata": {},
     "output_type": "execute_result"
    }
   ],
   "source": [
    "import numpy as np\n",
    "np.unique(y)"
   ]
  },
  {
   "cell_type": "code",
   "execution_count": 28,
   "metadata": {},
   "outputs": [
    {
     "name": "stdout",
     "output_type": "stream",
     "text": [
      "              precision    recall  f1-score   support\n",
      "\n",
      "           0       0.86      0.87      0.87       261\n",
      "           1       1.00      1.00      1.00       117\n",
      "           2       0.89      0.91      0.90       317\n",
      "           3       0.88      0.88      0.88       671\n",
      "           4       0.95      0.93      0.94       408\n",
      "           5       0.94      0.91      0.93       413\n",
      "           6       0.83      0.83      0.83       536\n",
      "\n",
      "    accuracy                           0.89      2723\n",
      "   macro avg       0.91      0.91      0.91      2723\n",
      "weighted avg       0.89      0.89      0.89      2723\n",
      "\n"
     ]
    }
   ],
   "source": [
    "from sklearn.metrics import classification_report\n",
    "#target_names=['SEKER', 'ODERMASON','A', 'B', 'C','D','E']\n",
    "print(classification_report(y_test, pred ))"
   ]
  },
  {
   "cell_type": "code",
   "execution_count": 13,
   "metadata": {},
   "outputs": [
    {
     "data": {
      "text/plain": [
       "<BarContainer object of 13611 artists>"
      ]
     },
     "execution_count": 13,
     "metadata": {},
     "output_type": "execute_result"
    },
    {
     "data": {
      "image/png": "[encoded data removed]",
      "text/plain": [
       "<Figure size 640x480 with 1 Axes>"
      ]
     },
     "metadata": {},
     "output_type": "display_data"
    }
   ],
   "source": [
    "import matplotlib.pyplot as plt\n",
    "plt.bar(y, height=3, width=0.5, color='pink', alpha=0.9)\n"
   ]
  },
  {
   "cell_type": "code",
   "execution_count": 14,
   "metadata": {},
   "outputs": [
    {
     "data": {
      "text/plain": [
       "<BarContainer object of 2723 artists>"
      ]
     },
     "execution_count": 14,
     "metadata": {},
     "output_type": "execute_result"
    },
    {
     "data": {
      "image/png": "[encoded data removed]",
      "text/plain": [
       "<Figure size 640x480 with 1 Axes>"
      ]
     },
     "metadata": {},
     "output_type": "display_data"
    }
   ],
   "source": [
    "plt.bar(y_test, height=3, width=0.5, color='pink')\n",
    "#plt.plot(y_test)"
   ]
  },
  {
   "cell_type": "code",
   "execution_count": 15,
   "metadata": {},
   "outputs": [
    {
     "data": {
      "text/html": [
       "<div>\n",
       "<style scoped>\n",
       "    .dataframe tbody tr th:only-of-type {\n",
       "        vertical-align: middle;\n",
       "    }\n",
       "\n",
       "    .dataframe tbody tr th {\n",
       "        vertical-align: top;\n",
       "    }\n",
       "\n",
       "    .dataframe thead th {\n",
       "        text-align: right;\n",
       "    }\n",
       "</style>\n",
       "<table border=\"1\" class=\"dataframe\">\n",
       "  <thead>\n",
       "    <tr style=\"text-align: right;\">\n",
       "      <th></th>\n",
       "      <th>Area</th>\n",
       "      <th>Perimeter</th>\n",
       "      <th>MajorAxisLength</th>\n",
       "      <th>MinorAxisLength</th>\n",
       "      <th>AspectRatio</th>\n",
       "      <th>Eccentricity</th>\n",
       "      <th>ConvexArea</th>\n",
       "      <th>EquivDiameter</th>\n",
       "      <th>Extent</th>\n",
       "      <th>Solidity</th>\n",
       "      <th>Roundness</th>\n",
       "      <th>Compactness</th>\n",
       "      <th>ShapeFactor1</th>\n",
       "      <th>ShapeFactor2</th>\n",
       "      <th>ShapeFactor3</th>\n",
       "      <th>ShapeFactor4</th>\n",
       "    </tr>\n",
       "  </thead>\n",
       "  <tbody>\n",
       "    <tr>\n",
       "      <th>Area</th>\n",
       "      <td>1.000000</td>\n",
       "      <td>0.966722</td>\n",
       "      <td>0.931834</td>\n",
       "      <td>0.951602</td>\n",
       "      <td>0.241735</td>\n",
       "      <td>0.267481</td>\n",
       "      <td>0.999939</td>\n",
       "      <td>0.984968</td>\n",
       "      <td>0.054345</td>\n",
       "      <td>-0.196585</td>\n",
       "      <td>-0.357530</td>\n",
       "      <td>-0.268067</td>\n",
       "      <td>-0.847958</td>\n",
       "      <td>-0.639291</td>\n",
       "      <td>-0.272145</td>\n",
       "      <td>-0.355721</td>\n",
       "    </tr>\n",
       "    <tr>\n",
       "      <th>Perimeter</th>\n",
       "      <td>0.966722</td>\n",
       "      <td>1.000000</td>\n",
       "      <td>0.977338</td>\n",
       "      <td>0.913179</td>\n",
       "      <td>0.385276</td>\n",
       "      <td>0.391066</td>\n",
       "      <td>0.967689</td>\n",
       "      <td>0.991380</td>\n",
       "      <td>-0.021160</td>\n",
       "      <td>-0.303970</td>\n",
       "      <td>-0.547647</td>\n",
       "      <td>-0.406857</td>\n",
       "      <td>-0.864623</td>\n",
       "      <td>-0.767592</td>\n",
       "      <td>-0.408435</td>\n",
       "      <td>-0.429310</td>\n",
       "    </tr>\n",
       "    <tr>\n",
       "      <th>MajorAxisLength</th>\n",
       "      <td>0.931834</td>\n",
       "      <td>0.977338</td>\n",
       "      <td>1.000000</td>\n",
       "      <td>0.826052</td>\n",
       "      <td>0.550335</td>\n",
       "      <td>0.541972</td>\n",
       "      <td>0.932607</td>\n",
       "      <td>0.961733</td>\n",
       "      <td>-0.078062</td>\n",
       "      <td>-0.284302</td>\n",
       "      <td>-0.596358</td>\n",
       "      <td>-0.568377</td>\n",
       "      <td>-0.773609</td>\n",
       "      <td>-0.859238</td>\n",
       "      <td>-0.568185</td>\n",
       "      <td>-0.482527</td>\n",
       "    </tr>\n",
       "    <tr>\n",
       "      <th>MinorAxisLength</th>\n",
       "      <td>0.951602</td>\n",
       "      <td>0.913179</td>\n",
       "      <td>0.826052</td>\n",
       "      <td>1.000000</td>\n",
       "      <td>-0.009161</td>\n",
       "      <td>0.019574</td>\n",
       "      <td>0.951339</td>\n",
       "      <td>0.948539</td>\n",
       "      <td>0.145957</td>\n",
       "      <td>-0.155831</td>\n",
       "      <td>-0.210344</td>\n",
       "      <td>-0.015066</td>\n",
       "      <td>-0.947204</td>\n",
       "      <td>-0.471347</td>\n",
       "      <td>-0.019326</td>\n",
       "      <td>-0.263749</td>\n",
       "    </tr>\n",
       "    <tr>\n",
       "      <th>AspectRatio</th>\n",
       "      <td>0.241735</td>\n",
       "      <td>0.385276</td>\n",
       "      <td>0.550335</td>\n",
       "      <td>-0.009161</td>\n",
       "      <td>1.000000</td>\n",
       "      <td>0.924293</td>\n",
       "      <td>0.243301</td>\n",
       "      <td>0.303647</td>\n",
       "      <td>-0.370184</td>\n",
       "      <td>-0.267754</td>\n",
       "      <td>-0.766979</td>\n",
       "      <td>-0.987687</td>\n",
       "      <td>0.024593</td>\n",
       "      <td>-0.837841</td>\n",
       "      <td>-0.978592</td>\n",
       "      <td>-0.449264</td>\n",
       "    </tr>\n",
       "    <tr>\n",
       "      <th>Eccentricity</th>\n",
       "      <td>0.267481</td>\n",
       "      <td>0.391066</td>\n",
       "      <td>0.541972</td>\n",
       "      <td>0.019574</td>\n",
       "      <td>0.924293</td>\n",
       "      <td>1.000000</td>\n",
       "      <td>0.269255</td>\n",
       "      <td>0.318667</td>\n",
       "      <td>-0.319362</td>\n",
       "      <td>-0.297592</td>\n",
       "      <td>-0.722272</td>\n",
       "      <td>-0.970313</td>\n",
       "      <td>0.019920</td>\n",
       "      <td>-0.860141</td>\n",
       "      <td>-0.981058</td>\n",
       "      <td>-0.449354</td>\n",
       "    </tr>\n",
       "    <tr>\n",
       "      <th>ConvexArea</th>\n",
       "      <td>0.999939</td>\n",
       "      <td>0.967689</td>\n",
       "      <td>0.932607</td>\n",
       "      <td>0.951339</td>\n",
       "      <td>0.243301</td>\n",
       "      <td>0.269255</td>\n",
       "      <td>1.000000</td>\n",
       "      <td>0.985226</td>\n",
       "      <td>0.052564</td>\n",
       "      <td>-0.206191</td>\n",
       "      <td>-0.362083</td>\n",
       "      <td>-0.269922</td>\n",
       "      <td>-0.847950</td>\n",
       "      <td>-0.640862</td>\n",
       "      <td>-0.274024</td>\n",
       "      <td>-0.362049</td>\n",
       "    </tr>\n",
       "    <tr>\n",
       "      <th>EquivDiameter</th>\n",
       "      <td>0.984968</td>\n",
       "      <td>0.991380</td>\n",
       "      <td>0.961733</td>\n",
       "      <td>0.948539</td>\n",
       "      <td>0.303647</td>\n",
       "      <td>0.318667</td>\n",
       "      <td>0.985226</td>\n",
       "      <td>1.000000</td>\n",
       "      <td>0.028383</td>\n",
       "      <td>-0.231648</td>\n",
       "      <td>-0.435945</td>\n",
       "      <td>-0.327650</td>\n",
       "      <td>-0.892741</td>\n",
       "      <td>-0.713069</td>\n",
       "      <td>-0.330389</td>\n",
       "      <td>-0.392512</td>\n",
       "    </tr>\n",
       "    <tr>\n",
       "      <th>Extent</th>\n",
       "      <td>0.054345</td>\n",
       "      <td>-0.021160</td>\n",
       "      <td>-0.078062</td>\n",
       "      <td>0.145957</td>\n",
       "      <td>-0.370184</td>\n",
       "      <td>-0.319362</td>\n",
       "      <td>0.052564</td>\n",
       "      <td>0.028383</td>\n",
       "      <td>1.000000</td>\n",
       "      <td>0.191389</td>\n",
       "      <td>0.344411</td>\n",
       "      <td>0.354212</td>\n",
       "      <td>-0.141616</td>\n",
       "      <td>0.237956</td>\n",
       "      <td>0.347624</td>\n",
       "      <td>0.148502</td>\n",
       "    </tr>\n",
       "    <tr>\n",
       "      <th>Solidity</th>\n",
       "      <td>-0.196585</td>\n",
       "      <td>-0.303970</td>\n",
       "      <td>-0.284302</td>\n",
       "      <td>-0.155831</td>\n",
       "      <td>-0.267754</td>\n",
       "      <td>-0.297592</td>\n",
       "      <td>-0.206191</td>\n",
       "      <td>-0.231648</td>\n",
       "      <td>0.191389</td>\n",
       "      <td>1.000000</td>\n",
       "      <td>0.607150</td>\n",
       "      <td>0.303766</td>\n",
       "      <td>0.153388</td>\n",
       "      <td>0.343559</td>\n",
       "      <td>0.307662</td>\n",
       "      <td>0.702163</td>\n",
       "    </tr>\n",
       "    <tr>\n",
       "      <th>Roundness</th>\n",
       "      <td>-0.357530</td>\n",
       "      <td>-0.547647</td>\n",
       "      <td>-0.596358</td>\n",
       "      <td>-0.210344</td>\n",
       "      <td>-0.766979</td>\n",
       "      <td>-0.722272</td>\n",
       "      <td>-0.362083</td>\n",
       "      <td>-0.435945</td>\n",
       "      <td>0.344411</td>\n",
       "      <td>0.607150</td>\n",
       "      <td>1.000000</td>\n",
       "      <td>0.768086</td>\n",
       "      <td>0.230273</td>\n",
       "      <td>0.782824</td>\n",
       "      <td>0.763126</td>\n",
       "      <td>0.472149</td>\n",
       "    </tr>\n",
       "    <tr>\n",
       "      <th>Compactness</th>\n",
       "      <td>-0.268067</td>\n",
       "      <td>-0.406857</td>\n",
       "      <td>-0.568377</td>\n",
       "      <td>-0.015066</td>\n",
       "      <td>-0.987687</td>\n",
       "      <td>-0.970313</td>\n",
       "      <td>-0.269922</td>\n",
       "      <td>-0.327650</td>\n",
       "      <td>0.354212</td>\n",
       "      <td>0.303766</td>\n",
       "      <td>0.768086</td>\n",
       "      <td>1.000000</td>\n",
       "      <td>-0.009394</td>\n",
       "      <td>0.868939</td>\n",
       "      <td>0.998686</td>\n",
       "      <td>0.484436</td>\n",
       "    </tr>\n",
       "    <tr>\n",
       "      <th>ShapeFactor1</th>\n",
       "      <td>-0.847958</td>\n",
       "      <td>-0.864623</td>\n",
       "      <td>-0.773609</td>\n",
       "      <td>-0.947204</td>\n",
       "      <td>0.024593</td>\n",
       "      <td>0.019920</td>\n",
       "      <td>-0.847950</td>\n",
       "      <td>-0.892741</td>\n",
       "      <td>-0.141616</td>\n",
       "      <td>0.153388</td>\n",
       "      <td>0.230273</td>\n",
       "      <td>-0.009394</td>\n",
       "      <td>1.000000</td>\n",
       "      <td>0.469197</td>\n",
       "      <td>-0.008320</td>\n",
       "      <td>0.248619</td>\n",
       "    </tr>\n",
       "    <tr>\n",
       "      <th>ShapeFactor2</th>\n",
       "      <td>-0.639291</td>\n",
       "      <td>-0.767592</td>\n",
       "      <td>-0.859238</td>\n",
       "      <td>-0.471347</td>\n",
       "      <td>-0.837841</td>\n",
       "      <td>-0.860141</td>\n",
       "      <td>-0.640862</td>\n",
       "      <td>-0.713069</td>\n",
       "      <td>0.237956</td>\n",
       "      <td>0.343559</td>\n",
       "      <td>0.782824</td>\n",
       "      <td>0.868939</td>\n",
       "      <td>0.469197</td>\n",
       "      <td>1.000000</td>\n",
       "      <td>0.872971</td>\n",
       "      <td>0.529932</td>\n",
       "    </tr>\n",
       "    <tr>\n",
       "      <th>ShapeFactor3</th>\n",
       "      <td>-0.272145</td>\n",
       "      <td>-0.408435</td>\n",
       "      <td>-0.568185</td>\n",
       "      <td>-0.019326</td>\n",
       "      <td>-0.978592</td>\n",
       "      <td>-0.981058</td>\n",
       "      <td>-0.274024</td>\n",
       "      <td>-0.330389</td>\n",
       "      <td>0.347624</td>\n",
       "      <td>0.307662</td>\n",
       "      <td>0.763126</td>\n",
       "      <td>0.998686</td>\n",
       "      <td>-0.008320</td>\n",
       "      <td>0.872971</td>\n",
       "      <td>1.000000</td>\n",
       "      <td>0.484274</td>\n",
       "    </tr>\n",
       "    <tr>\n",
       "      <th>ShapeFactor4</th>\n",
       "      <td>-0.355721</td>\n",
       "      <td>-0.429310</td>\n",
       "      <td>-0.482527</td>\n",
       "      <td>-0.263749</td>\n",
       "      <td>-0.449264</td>\n",
       "      <td>-0.449354</td>\n",
       "      <td>-0.362049</td>\n",
       "      <td>-0.392512</td>\n",
       "      <td>0.148502</td>\n",
       "      <td>0.702163</td>\n",
       "      <td>0.472149</td>\n",
       "      <td>0.484436</td>\n",
       "      <td>0.248619</td>\n",
       "      <td>0.529932</td>\n",
       "      <td>0.484274</td>\n",
       "      <td>1.000000</td>\n",
       "    </tr>\n",
       "  </tbody>\n",
       "</table>\n",
       "</div>"
      ],
      "text/plain": [
       "                     Area  Perimeter  MajorAxisLength  MinorAxisLength  \\\n",
       "Area             1.000000   0.966722         0.931834         0.951602   \n",
       "Perimeter        0.966722   1.000000         0.977338         0.913179   \n",
       "MajorAxisLength  0.931834   0.977338         1.000000         0.826052   \n",
       "MinorAxisLength  0.951602   0.913179         0.826052         1.000000   \n",
       "AspectRatio      0.241735   0.385276         0.550335        -0.009161   \n",
       "Eccentricity     0.267481   0.391066         0.541972         0.019574   \n",
       "ConvexArea       0.999939   0.967689         0.932607         0.951339   \n",
       "EquivDiameter    0.984968   0.991380         0.961733         0.948539   \n",
       "Extent           0.054345  -0.021160        -0.078062         0.145957   \n",
       "Solidity        -0.196585  -0.303970        -0.284302        -0.155831   \n",
       "Roundness       -0.357530  -0.547647        -0.596358        -0.210344   \n",
       "Compactness     -0.268067  -0.406857        -0.568377        -0.015066   \n",
       "ShapeFactor1    -0.847958  -0.864623        -0.773609        -0.947204   \n",
       "ShapeFactor2    -0.639291  -0.767592        -0.859238        -0.471347   \n",
       "ShapeFactor3    -0.272145  -0.408435        -0.568185        -0.019326   \n",
       "ShapeFactor4    -0.355721  -0.429310        -0.482527        -0.263749   \n",
       "\n",
       "                 AspectRatio  Eccentricity  ConvexArea  EquivDiameter  \\\n",
       "Area                0.241735      0.267481    0.999939       0.984968   \n",
       "Perimeter           0.385276      0.391066    0.967689       0.991380   \n",
       "MajorAxisLength     0.550335      0.541972    0.932607       0.961733   \n",
       "MinorAxisLength    -0.009161      0.019574    0.951339       0.948539   \n",
       "AspectRatio         1.000000      0.924293    0.243301       0.303647   \n",
       "Eccentricity        0.924293      1.000000    0.269255       0.318667   \n",
       "ConvexArea          0.243301      0.269255    1.000000       0.985226   \n",
       "EquivDiameter       0.303647      0.318667    0.985226       1.000000   \n",
       "Extent             -0.370184     -0.319362    0.052564       0.028383   \n",
       "Solidity           -0.267754     -0.297592   -0.206191      -0.231648   \n",
       "Roundness          -0.766979     -0.722272   -0.362083      -0.435945   \n",
       "Compactness        -0.987687     -0.970313   -0.269922      -0.327650   \n",
       "ShapeFactor1        0.024593      0.019920   -0.847950      -0.892741   \n",
       "ShapeFactor2       -0.837841     -0.860141   -0.640862      -0.713069   \n",
       "ShapeFactor3       -0.978592     -0.981058   -0.274024      -0.330389   \n",
       "ShapeFactor4       -0.449264     -0.449354   -0.362049      -0.392512   \n",
       "\n",
       "                   Extent  Solidity  Roundness  Compactness  ShapeFactor1  \\\n",
       "Area             0.054345 -0.196585  -0.357530    -0.268067     -0.847958   \n",
       "Perimeter       -0.021160 -0.303970  -0.547647    -0.406857     -0.864623   \n",
       "MajorAxisLength -0.078062 -0.284302  -0.596358    -0.568377     -0.773609   \n",
       "MinorAxisLength  0.145957 -0.155831  -0.210344    -0.015066     -0.947204   \n",
       "AspectRatio     -0.370184 -0.267754  -0.766979    -0.987687      0.024593   \n",
       "Eccentricity    -0.319362 -0.297592  -0.722272    -0.970313      0.019920   \n",
       "ConvexArea       0.052564 -0.206191  -0.362083    -0.269922     -0.847950   \n",
       "EquivDiameter    0.028383 -0.231648  -0.435945    -0.327650     -0.892741   \n",
       "Extent           1.000000  0.191389   0.344411     0.354212     -0.141616   \n",
       "Solidity         0.191389  1.000000   0.607150     0.303766      0.153388   \n",
       "Roundness        0.344411  0.607150   1.000000     0.768086      0.230273   \n",
       "Compactness      0.354212  0.303766   0.768086     1.000000     -0.009394   \n",
       "ShapeFactor1    -0.141616  0.153388   0.230273    -0.009394      1.000000   \n",
       "ShapeFactor2     0.237956  0.343559   0.782824     0.868939      0.469197   \n",
       "ShapeFactor3     0.347624  0.307662   0.763126     0.998686     -0.008320   \n",
       "ShapeFactor4     0.148502  0.702163   0.472149     0.484436      0.248619   \n",
       "\n",
       "                 ShapeFactor2  ShapeFactor3  ShapeFactor4  \n",
       "Area                -0.639291     -0.272145     -0.355721  \n",
       "Perimeter           -0.767592     -0.408435     -0.429310  \n",
       "MajorAxisLength     -0.859238     -0.568185     -0.482527  \n",
       "MinorAxisLength     -0.471347     -0.019326     -0.263749  \n",
       "AspectRatio         -0.837841     -0.978592     -0.449264  \n",
       "Eccentricity        -0.860141     -0.981058     -0.449354  \n",
       "ConvexArea          -0.640862     -0.274024     -0.362049  \n",
       "EquivDiameter       -0.713069     -0.330389     -0.392512  \n",
       "Extent               0.237956      0.347624      0.148502  \n",
       "Solidity             0.343559      0.307662      0.702163  \n",
       "Roundness            0.782824      0.763126      0.472149  \n",
       "Compactness          0.868939      0.998686      0.484436  \n",
       "ShapeFactor1         0.469197     -0.008320      0.248619  \n",
       "ShapeFactor2         1.000000      0.872971      0.529932  \n",
       "ShapeFactor3         0.872971      1.000000      0.484274  \n",
       "ShapeFactor4         0.529932      0.484274      1.000000  "
      ]
     },
     "execution_count": 15,
     "metadata": {},
     "output_type": "execute_result"
    }
   ],
   "source": [
    "import pandas as pd\n",
    "\n",
    "c=X.corr()\n",
    "c\n",
    "\n"
   ]
  },
  {
   "cell_type": "code",
   "execution_count": 16,
   "metadata": {},
   "outputs": [
    {
     "data": {
      "text/plain": [
       "<Axes: >"
      ]
     },
     "execution_count": 16,
     "metadata": {},
     "output_type": "execute_result"
    },
    {
     "data": {
      "image/png": "[encoded data removed]",
      "text/plain": [
       "<Figure size 640x480 with 2 Axes>"
      ]
     },
     "metadata": {},
     "output_type": "display_data"
    }
   ],
   "source": [
    "import seaborn as sb\n",
    "sb.heatmap(c,cmap='cool')"
   ]
  },
  {
   "cell_type": "code",
   "execution_count": 17,
   "metadata": {},
   "outputs": [
    {
     "data": {
      "text/html": [
       "<style>#sk-container-id-2 {color: black;background-color: white;}#sk-container-id-2 pre{padding: 0;}#sk-container-id-2 div.sk-toggleable {background-color: white;}#sk-container-id-2 label.sk-toggleable__label {cursor: pointer;display: block;width: 100%;margin-bottom: 0;padding: 0.3em;box-sizing: border-box;text-align: center;}#sk-container-id-2 label.sk-toggleable__label-arrow:before {content: \"▸\";float: left;margin-right: 0.25em;color: #696969;}#sk-container-id-2 label.sk-toggleable__label-arrow:hover:before {color: black;}#sk-container-id-2 div.sk-estimator:hover label.sk-toggleable__label-arrow:before {color: black;}#sk-container-id-2 div.sk-toggleable__content {max-height: 0;max-width: 0;overflow: hidden;text-align: left;background-color: #f0f8ff;}#sk-container-id-2 div.sk-toggleable__content pre {margin: 0.2em;color: black;border-radius: 0.25em;background-color: #f0f8ff;}#sk-container-id-2 input.sk-toggleable__control:checked~div.sk-toggleable__content {max-height: 200px;max-width: 100%;overflow: auto;}#sk-container-id-2 input.sk-toggleable__control:checked~label.sk-toggleable__label-arrow:before {content: \"▾\";}#sk-container-id-2 div.sk-estimator input.sk-toggleable__control:checked~label.sk-toggleable__label {background-color: #d4ebff;}#sk-container-id-2 div.sk-label input.sk-toggleable__control:checked~label.sk-toggleable__label {background-color: #d4ebff;}#sk-container-id-2 input.sk-hidden--visually {border: 0;clip: rect(1px 1px 1px 1px);clip: rect(1px, 1px, 1px, 1px);height: 1px;margin: -1px;overflow: hidden;padding: 0;position: absolute;width: 1px;}#sk-container-id-2 div.sk-estimator {font-family: monospace;background-color: #f0f8ff;border: 1px dotted black;border-radius: 0.25em;box-sizing: border-box;margin-bottom: 0.5em;}#sk-container-id-2 div.sk-estimator:hover {background-color: #d4ebff;}#sk-container-id-2 div.sk-parallel-item::after {content: \"\";width: 100%;border-bottom: 1px solid gray;flex-grow: 1;}#sk-container-id-2 div.sk-label:hover label.sk-toggleable__label {background-color: #d4ebff;}#sk-container-id-2 div.sk-serial::before {content: \"\";position: absolute;border-left: 1px solid gray;box-sizing: border-box;top: 0;bottom: 0;left: 50%;z-index: 0;}#sk-container-id-2 div.sk-serial {display: flex;flex-direction: column;align-items: center;background-color: white;padding-right: 0.2em;padding-left: 0.2em;position: relative;}#sk-container-id-2 div.sk-item {position: relative;z-index: 1;}#sk-container-id-2 div.sk-parallel {display: flex;align-items: stretch;justify-content: center;background-color: white;position: relative;}#sk-container-id-2 div.sk-item::before, #sk-container-id-2 div.sk-parallel-item::before {content: \"\";position: absolute;border-left: 1px solid gray;box-sizing: border-box;top: 0;bottom: 0;left: 50%;z-index: -1;}#sk-container-id-2 div.sk-parallel-item {display: flex;flex-direction: column;z-index: 1;position: relative;background-color: white;}#sk-container-id-2 div.sk-parallel-item:first-child::after {align-self: flex-end;width: 50%;}#sk-container-id-2 div.sk-parallel-item:last-child::after {align-self: flex-start;width: 50%;}#sk-container-id-2 div.sk-parallel-item:only-child::after {width: 0;}#sk-container-id-2 div.sk-dashed-wrapped {border: 1px dashed gray;margin: 0 0.4em 0.5em 0.4em;box-sizing: border-box;padding-bottom: 0.4em;background-color: white;}#sk-container-id-2 div.sk-label label {font-family: monospace;font-weight: bold;display: inline-block;line-height: 1.2em;}#sk-container-id-2 div.sk-label-container {text-align: center;}#sk-container-id-2 div.sk-container {/* jupyter's `normalize.less` sets `[hidden] { display: none; }` but bootstrap.min.css set `[hidden] { display: none !important; }` so we also need the `!important` here to be able to override the default hidden behavior on the sphinx rendered scikit-learn.org. See: https://github.com/scikit-learn/scikit-learn/issues/21755 */display: inline-block !important;position: relative;}#sk-container-id-2 div.sk-text-repr-fallback {display: none;}</style><div id=\"sk-container-id-2\" class=\"sk-top-container\"><div class=\"sk-text-repr-fallback\"><pre>SVC(C=1, decision_function_shape=&#x27;ovo&#x27;)</pre><b>In a Jupyter environment, please rerun this cell to show the HTML representation or trust the notebook. <br />On GitHub, the HTML representation is unable to render, please try loading this page with nbviewer.org.</b></div><div class=\"sk-container\" hidden><div class=\"sk-item\"><div class=\"sk-estimator sk-toggleable\"><input class=\"sk-toggleable__control sk-hidden--visually\" id=\"sk-estimator-id-2\" type=\"checkbox\" checked><label for=\"sk-estimator-id-2\" class=\"sk-toggleable__label sk-toggleable__label-arrow\">SVC</label><div class=\"sk-toggleable__content\"><pre>SVC(C=1, decision_function_shape=&#x27;ovo&#x27;)</pre></div></div></div></div></div>"
      ],
      "text/plain": [
       "SVC(C=1, decision_function_shape='ovo')"
      ]
     },
     "execution_count": 17,
     "metadata": {},
     "output_type": "execute_result"
    }
   ],
   "source": [
    "from sklearn import svm\n",
    "s=svm.SVC(decision_function_shape='ovo', C=1)\n",
    "s.fit(X_train, y_train)"
   ]
  },
  {
   "cell_type": "code",
   "execution_count": 18,
   "metadata": {},
   "outputs": [
    {
     "data": {
      "text/plain": [
       "array([6, 2, 5, ..., 3, 2, 5])"
      ]
     },
     "execution_count": 18,
     "metadata": {},
     "output_type": "execute_result"
    }
   ],
   "source": [
    "pred1=s.predict(X_test)\n",
    "pred1"
   ]
  },
  {
   "cell_type": "code",
   "execution_count": 19,
   "metadata": {},
   "outputs": [
    {
     "name": "stdout",
     "output_type": "stream",
     "text": [
      "The accuraccy of Chambal_2.0 model is : 0.6312890194638267\n"
     ]
    }
   ],
   "source": [
    "acc2=accuracy_score(y_test, pred1)\n",
    "print('The accuraccy of Chambal_2.0 model is :', acc2)"
   ]
  },
  {
   "cell_type": "code",
   "execution_count": 20,
   "metadata": {},
   "outputs": [
    {
     "name": "stdout",
     "output_type": "stream",
     "text": [
      "              precision    recall  f1-score   support\n",
      "\n",
      "       SEKER       0.48      0.08      0.14       261\n",
      "   ODERMASON       1.00      1.00      1.00       117\n",
      "           A       0.60      0.90      0.72       317\n",
      "           B       0.74      0.83      0.78       671\n",
      "           C       0.63      0.59      0.61       408\n",
      "           D       0.40      0.26      0.31       413\n",
      "           E       0.57      0.74      0.64       536\n",
      "\n",
      "    accuracy                           0.63      2723\n",
      "   macro avg       0.63      0.63      0.60      2723\n",
      "weighted avg       0.61      0.63      0.60      2723\n",
      "\n"
     ]
    }
   ],
   "source": [
    "target_names=['SEKER', 'ODERMASON','A', 'B', 'C','D','E']\n",
    "print(classification_report(y_test,pred1, target_names=target_names))"
   ]
  },
  {
   "cell_type": "code",
   "execution_count": 21,
   "metadata": {},
   "outputs": [
    {
     "data": {
      "text/plain": [
       "<BarContainer object of 13611 artists>"
      ]
     },
     "execution_count": 21,
     "metadata": {},
     "output_type": "execute_result"
    },
    {
     "data": {
      "image/png": "[encoded data removed]",
      "text/plain": [
       "<Figure size 640x480 with 1 Axes>"
      ]
     },
     "metadata": {},
     "output_type": "display_data"
    }
   ],
   "source": [
    "plt.bar(y, height=3,width=0.5,color='pink', alpha=0.9)"
   ]
  },
  {
   "cell_type": "code",
   "execution_count": 22,
   "metadata": {},
   "outputs": [
    {
     "data": {
      "text/plain": [
       "array([[ 21,   0, 170,   0,  60,   0,  10],\n",
       "       [  0, 117,   0,   0,   0,   0,   0],\n",
       "       [  9,   0, 284,   0,  24,   0,   0],\n",
       "       [  0,   0,   0, 556,   0,  85,  30],\n",
       "       [ 14,   0,  22,  10, 240,   9, 113],\n",
       "       [  0,   0,   0, 151,  11, 106, 145],\n",
       "       [  0,   0,   0,  30,  46,  65, 395]], dtype=int64)"
      ]
     },
     "execution_count": 22,
     "metadata": {},
     "output_type": "execute_result"
    }
   ],
   "source": [
    "from sklearn.metrics import confusion_matrix as cm\n",
    "cm=cm(y_test, pred1,labels=[0,1,2,3,4,5,6])\n",
    "cm\n"
   ]
  },
  {
   "cell_type": "code",
   "execution_count": 23,
   "metadata": {},
   "outputs": [
    {
     "data": {
      "text/plain": [
       "array([[228,   0,  23,   0,   1,   1,   8],\n",
       "       [  0, 117,   0,   0,   0,   0,   0],\n",
       "       [ 23,   0, 288,   0,   4,   0,   2],\n",
       "       [  1,   0,   0, 593,   4,  11,  62],\n",
       "       [  3,   0,  11,   3, 381,   0,  10],\n",
       "       [  2,   0,   0,  22,   0, 377,  12],\n",
       "       [  8,   0,   2,  55,  11,  13, 447]], dtype=int64)"
      ]
     },
     "execution_count": 23,
     "metadata": {},
     "output_type": "execute_result"
    }
   ],
   "source": [
    "from sklearn.metrics import confusion_matrix as cm\n",
    "cm=cm(y_test, pred,labels=[0,1,2,3,4,5,6])\n",
    "cm"
   ]
  },
  {
   "cell_type": "code",
   "execution_count": 24,
   "metadata": {},
   "outputs": [
    {
     "data": {
      "text/plain": [
       "<sklearn.metrics._plot.confusion_matrix.ConfusionMatrixDisplay at 0x2042765d1d0>"
      ]
     },
     "execution_count": 24,
     "metadata": {},
     "output_type": "execute_result"
    },
    {
     "data": {
      "image/png": "[encoded data removed]",
      "text/plain": [
       "<Figure size 640x480 with 2 Axes>"
      ]
     },
     "metadata": {},
     "output_type": "display_data"
    }
   ],
   "source": [
    "from sklearn.metrics import confusion_matrix, ConfusionMatrixDisplay\n",
    "labels=['SEKER', 'ODERMASON','A', 'B', 'C','D','E']\n",
    "disp= ConfusionMatrixDisplay(confusion_matrix=cm, display_labels=labels)\n",
    "disp.plot(cmap='CMRmap')"
   ]
  },
  {
   "cell_type": "code",
   "execution_count": 25,
   "metadata": {},
   "outputs": [],
   "source": [
    "#color=np.arange(2723)\n",
    "#plt.scatter(pred,pred1,s=70, alpha=0.9,  c=color,cmap='nipy_spectral' )  \n"
   ]
  },
  {
   "cell_type": "code",
   "execution_count": 26,
   "metadata": {},
   "outputs": [],
   "source": [
    "#plt.bar(pred,pred1, color='cyan', width=0.7, alpha=0.9)\n"
   ]
  },
  {
   "cell_type": "code",
   "execution_count": 27,
   "metadata": {},
   "outputs": [
    {
     "data": {
      "image/png": "[encoded data removed]",
      "text/plain": [
       "<Figure size 640x480 with 1 Axes>"
      ]
     },
     "metadata": {},
     "output_type": "display_data"
    }
   ],
   "source": [
    "\n",
    "list = (\"precision\", \"recall  \", \"f1-score\" )\n",
    "dict1 = {\n",
    "    'A': (0.48,0.08,0.14),\n",
    "    'B': (1.00   ,   1.00   ,   1.00      ),\n",
    "    'C': (0.60    ,  0.90    ,  0.72      ),\n",
    "    'D': ( 0.74   ,   0.83    ,  0.78      ),\n",
    "    'E': (0.63   ,   0.59   ,   0.61    ), \n",
    "    'F':(0.40   ,   0.26   ,   0.31   ),\n",
    "    'G':(0.57   ,   0.74   ,   0.64     ), \n",
    "\n",
    "    }\n",
    "\n",
    "x = np.arange(len(list))  # the label locations\n",
    "width = 0.15  # the width of the bars\n",
    "multiplier = 0\n",
    "\n",
    "fig, ax = plt.subplots(layout='constrained')\n",
    "\n",
    "for attribute, measurement in dict1.items():\n",
    "    offset = width * multiplier\n",
    "    rects = ax.bar(x + offset, measurement, width, label=attribute)\n",
    "    ax.bar_label(rects, padding=10)\n",
    "    multiplier += 1\n",
    "\n",
    "# Add some text for labels, title and custom x-axis tick labels, etc.\n",
    "ax.set_ylabel('Values ')\n",
    "ax.set_title('Information about performance')\n",
    "ax.set_xticks(x + width, list)\n",
    "ax.legend(loc='upper left', ncols=1)\n",
    "ax.set_ylim(0, 1.2)\n",
    "\n",
    "plt.show()"
   ]
  },
  {
   "cell_type": "code",
   "execution_count": null,
   "metadata": {},
   "outputs": [],
   "source": []
  },
  {
   "cell_type": "code",
   "execution_count": null,
   "metadata": {},
   "outputs": [],
   "source": []
  }
 ],
 "metadata": {
  "kernelspec": {
   "display_name": "base",
   "language": "python",
   "name": "python3"
  },
  "language_info": {
   "codemirror_mode": {
    "name": "ipython",
    "version": 3
   },
   "file_extension": ".py",
   "mimetype": "text/x-python",
   "name": "python",
   "nbconvert_exporter": "python",
   "pygments_lexer": "ipython3",
   "version": "3.11.7"
  }
 },
 "nbformat": 4,
 "nbformat_minor": 2
}
